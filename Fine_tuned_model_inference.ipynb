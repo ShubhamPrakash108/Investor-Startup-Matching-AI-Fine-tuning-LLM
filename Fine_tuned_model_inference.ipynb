{
  "nbformat": 4,
  "nbformat_minor": 0,
  "metadata": {
    "colab": {
      "provenance": [],
      "gpuType": "T4"
    },
    "kernelspec": {
      "name": "python3",
      "display_name": "Python 3"
    },
    "language_info": {
      "name": "python"
    },
    "accelerator": "GPU"
  },
  "cells": [
    {
      "cell_type": "code",
      "execution_count": 1,
      "metadata": {
        "id": "BB7kHqvJM9w2"
      },
      "outputs": [],
      "source": [
        "!mkdir ~/.kaggle\n",
        "!cp kaggle.json ~/.kaggle/\n",
        "!chmod 600 ~/.kaggle/kaggle.json"
      ]
    },
    {
      "cell_type": "code",
      "source": [
        "!kaggle kernels output shubham2prakash/fork-of-investor-falcon-rw-1b -p /content/"
      ],
      "metadata": {
        "colab": {
          "base_uri": "https://localhost:8080/"
        },
        "id": "hGfFBreZNTQp",
        "outputId": "141f461d-80d1-49a5-95ec-e4e35a92f823"
      },
      "execution_count": 2,
      "outputs": [
        {
          "output_type": "stream",
          "name": "stdout",
          "text": [
            "Output file downloaded to /content/falcon-rw-1b-finetuned/checkpoint-1014/README.md\n",
            "Output file downloaded to /content/falcon-rw-1b-finetuned/checkpoint-1014/adapter_config.json\n",
            "Output file downloaded to /content/falcon-rw-1b-finetuned/checkpoint-1014/adapter_model.safetensors\n",
            "Output file downloaded to /content/falcon-rw-1b-finetuned/checkpoint-1014/merges.txt\n",
            "Output file downloaded to /content/falcon-rw-1b-finetuned/checkpoint-1014/optimizer.pt\n",
            "Output file downloaded to /content/falcon-rw-1b-finetuned/checkpoint-1014/rng_state.pth\n",
            "Output file downloaded to /content/falcon-rw-1b-finetuned/checkpoint-1014/scaler.pt\n",
            "Output file downloaded to /content/falcon-rw-1b-finetuned/checkpoint-1014/scheduler.pt\n",
            "Output file downloaded to /content/falcon-rw-1b-finetuned/checkpoint-1014/special_tokens_map.json\n",
            "Output file downloaded to /content/falcon-rw-1b-finetuned/checkpoint-1014/tokenizer.json\n",
            "Output file downloaded to /content/falcon-rw-1b-finetuned/checkpoint-1014/tokenizer_config.json\n",
            "Output file downloaded to /content/falcon-rw-1b-finetuned/checkpoint-1014/trainer_state.json\n",
            "Output file downloaded to /content/falcon-rw-1b-finetuned/checkpoint-1014/training_args.bin\n",
            "Output file downloaded to /content/falcon-rw-1b-finetuned/checkpoint-1014/vocab.json\n",
            "Output file downloaded to /content/falcon-rw-1b-finetuned/checkpoint-1521/README.md\n",
            "Output file downloaded to /content/falcon-rw-1b-finetuned/checkpoint-1521/adapter_config.json\n",
            "Output file downloaded to /content/falcon-rw-1b-finetuned/checkpoint-1521/adapter_model.safetensors\n",
            "Output file downloaded to /content/falcon-rw-1b-finetuned/checkpoint-1521/merges.txt\n",
            "Output file downloaded to /content/falcon-rw-1b-finetuned/checkpoint-1521/optimizer.pt\n",
            "Output file downloaded to /content/falcon-rw-1b-finetuned/checkpoint-1521/rng_state.pth\n",
            "Output file downloaded to /content/falcon-rw-1b-finetuned/checkpoint-1521/scaler.pt\n",
            "Output file downloaded to /content/falcon-rw-1b-finetuned/checkpoint-1521/scheduler.pt\n",
            "Output file downloaded to /content/falcon-rw-1b-finetuned/checkpoint-1521/special_tokens_map.json\n",
            "Output file downloaded to /content/falcon-rw-1b-finetuned/checkpoint-1521/tokenizer.json\n",
            "Output file downloaded to /content/falcon-rw-1b-finetuned/checkpoint-1521/tokenizer_config.json\n",
            "Output file downloaded to /content/falcon-rw-1b-finetuned/checkpoint-1521/trainer_state.json\n",
            "Output file downloaded to /content/falcon-rw-1b-finetuned/checkpoint-1521/training_args.bin\n",
            "Output file downloaded to /content/falcon-rw-1b-finetuned/checkpoint-1521/vocab.json\n",
            "Output file downloaded to /content/falcon-rw-1b-finetuned/checkpoint-2028/README.md\n",
            "Output file downloaded to /content/falcon-rw-1b-finetuned/checkpoint-2028/adapter_config.json\n",
            "Output file downloaded to /content/falcon-rw-1b-finetuned/checkpoint-2028/adapter_model.safetensors\n",
            "Output file downloaded to /content/falcon-rw-1b-finetuned/checkpoint-2028/merges.txt\n",
            "Output file downloaded to /content/falcon-rw-1b-finetuned/checkpoint-2028/optimizer.pt\n",
            "Output file downloaded to /content/falcon-rw-1b-finetuned/checkpoint-2028/rng_state.pth\n",
            "Output file downloaded to /content/falcon-rw-1b-finetuned/checkpoint-2028/scaler.pt\n",
            "Output file downloaded to /content/falcon-rw-1b-finetuned/checkpoint-2028/scheduler.pt\n",
            "Output file downloaded to /content/falcon-rw-1b-finetuned/checkpoint-2028/special_tokens_map.json\n",
            "Output file downloaded to /content/falcon-rw-1b-finetuned/checkpoint-2028/tokenizer.json\n",
            "Output file downloaded to /content/falcon-rw-1b-finetuned/checkpoint-2028/tokenizer_config.json\n",
            "Output file downloaded to /content/falcon-rw-1b-finetuned/checkpoint-2028/trainer_state.json\n",
            "Output file downloaded to /content/falcon-rw-1b-finetuned/checkpoint-2028/training_args.bin\n",
            "Output file downloaded to /content/falcon-rw-1b-finetuned/checkpoint-2028/vocab.json\n",
            "Output file downloaded to /content/falcon-rw-1b-finetuned/checkpoint-2535/README.md\n",
            "Output file downloaded to /content/falcon-rw-1b-finetuned/checkpoint-2535/adapter_config.json\n",
            "Output file downloaded to /content/falcon-rw-1b-finetuned/checkpoint-2535/adapter_model.safetensors\n",
            "Output file downloaded to /content/falcon-rw-1b-finetuned/checkpoint-2535/merges.txt\n",
            "Output file downloaded to /content/falcon-rw-1b-finetuned/checkpoint-2535/optimizer.pt\n",
            "Output file downloaded to /content/falcon-rw-1b-finetuned/checkpoint-2535/rng_state.pth\n",
            "Output file downloaded to /content/falcon-rw-1b-finetuned/checkpoint-2535/scaler.pt\n",
            "Output file downloaded to /content/falcon-rw-1b-finetuned/checkpoint-2535/scheduler.pt\n",
            "Output file downloaded to /content/falcon-rw-1b-finetuned/checkpoint-2535/special_tokens_map.json\n",
            "Output file downloaded to /content/falcon-rw-1b-finetuned/checkpoint-2535/tokenizer.json\n",
            "Output file downloaded to /content/falcon-rw-1b-finetuned/checkpoint-2535/tokenizer_config.json\n",
            "Output file downloaded to /content/falcon-rw-1b-finetuned/checkpoint-2535/trainer_state.json\n",
            "Output file downloaded to /content/falcon-rw-1b-finetuned/checkpoint-2535/training_args.bin\n",
            "Output file downloaded to /content/falcon-rw-1b-finetuned/checkpoint-2535/vocab.json\n",
            "Output file downloaded to /content/falcon-rw-1b-finetuned/checkpoint-3042/README.md\n",
            "Output file downloaded to /content/falcon-rw-1b-finetuned/checkpoint-3042/adapter_config.json\n",
            "Output file downloaded to /content/falcon-rw-1b-finetuned/checkpoint-3042/adapter_model.safetensors\n",
            "Output file downloaded to /content/falcon-rw-1b-finetuned/checkpoint-3042/merges.txt\n",
            "Output file downloaded to /content/falcon-rw-1b-finetuned/checkpoint-3042/optimizer.pt\n",
            "Output file downloaded to /content/falcon-rw-1b-finetuned/checkpoint-3042/rng_state.pth\n",
            "Output file downloaded to /content/falcon-rw-1b-finetuned/checkpoint-3042/scaler.pt\n",
            "Output file downloaded to /content/falcon-rw-1b-finetuned/checkpoint-3042/scheduler.pt\n",
            "Output file downloaded to /content/falcon-rw-1b-finetuned/checkpoint-3042/special_tokens_map.json\n",
            "Output file downloaded to /content/falcon-rw-1b-finetuned/checkpoint-3042/tokenizer.json\n",
            "Output file downloaded to /content/falcon-rw-1b-finetuned/checkpoint-3042/tokenizer_config.json\n",
            "Output file downloaded to /content/falcon-rw-1b-finetuned/checkpoint-3042/trainer_state.json\n",
            "Output file downloaded to /content/falcon-rw-1b-finetuned/checkpoint-3042/training_args.bin\n",
            "Output file downloaded to /content/falcon-rw-1b-finetuned/checkpoint-3042/vocab.json\n",
            "Output file downloaded to /content/falcon-rw-1b-finetuned/checkpoint-3549/README.md\n",
            "Output file downloaded to /content/falcon-rw-1b-finetuned/checkpoint-3549/adapter_config.json\n",
            "Output file downloaded to /content/falcon-rw-1b-finetuned/checkpoint-3549/adapter_model.safetensors\n",
            "Output file downloaded to /content/falcon-rw-1b-finetuned/checkpoint-3549/merges.txt\n",
            "Output file downloaded to /content/falcon-rw-1b-finetuned/checkpoint-3549/optimizer.pt\n",
            "Output file downloaded to /content/falcon-rw-1b-finetuned/checkpoint-3549/rng_state.pth\n",
            "Output file downloaded to /content/falcon-rw-1b-finetuned/checkpoint-3549/scaler.pt\n",
            "Output file downloaded to /content/falcon-rw-1b-finetuned/checkpoint-3549/scheduler.pt\n",
            "Output file downloaded to /content/falcon-rw-1b-finetuned/checkpoint-3549/special_tokens_map.json\n",
            "Output file downloaded to /content/falcon-rw-1b-finetuned/checkpoint-3549/tokenizer.json\n",
            "Output file downloaded to /content/falcon-rw-1b-finetuned/checkpoint-3549/tokenizer_config.json\n",
            "Output file downloaded to /content/falcon-rw-1b-finetuned/checkpoint-3549/trainer_state.json\n",
            "Output file downloaded to /content/falcon-rw-1b-finetuned/checkpoint-3549/training_args.bin\n",
            "Output file downloaded to /content/falcon-rw-1b-finetuned/checkpoint-3549/vocab.json\n",
            "Output file downloaded to /content/falcon-rw-1b-finetuned/checkpoint-4056/README.md\n",
            "Output file downloaded to /content/falcon-rw-1b-finetuned/checkpoint-4056/adapter_config.json\n",
            "Output file downloaded to /content/falcon-rw-1b-finetuned/checkpoint-4056/adapter_model.safetensors\n",
            "Output file downloaded to /content/falcon-rw-1b-finetuned/checkpoint-4056/merges.txt\n",
            "Output file downloaded to /content/falcon-rw-1b-finetuned/checkpoint-4056/optimizer.pt\n",
            "Output file downloaded to /content/falcon-rw-1b-finetuned/checkpoint-4056/rng_state.pth\n",
            "Output file downloaded to /content/falcon-rw-1b-finetuned/checkpoint-4056/scaler.pt\n",
            "Output file downloaded to /content/falcon-rw-1b-finetuned/checkpoint-4056/scheduler.pt\n",
            "Output file downloaded to /content/falcon-rw-1b-finetuned/checkpoint-4056/special_tokens_map.json\n",
            "Output file downloaded to /content/falcon-rw-1b-finetuned/checkpoint-4056/tokenizer.json\n",
            "Output file downloaded to /content/falcon-rw-1b-finetuned/checkpoint-4056/tokenizer_config.json\n",
            "Output file downloaded to /content/falcon-rw-1b-finetuned/checkpoint-4056/trainer_state.json\n",
            "Output file downloaded to /content/falcon-rw-1b-finetuned/checkpoint-4056/training_args.bin\n",
            "Output file downloaded to /content/falcon-rw-1b-finetuned/checkpoint-4056/vocab.json\n",
            "Output file downloaded to /content/falcon-rw-1b-finetuned/checkpoint-4563/README.md\n",
            "Output file downloaded to /content/falcon-rw-1b-finetuned/checkpoint-4563/adapter_config.json\n",
            "Output file downloaded to /content/falcon-rw-1b-finetuned/checkpoint-4563/adapter_model.safetensors\n",
            "Output file downloaded to /content/falcon-rw-1b-finetuned/checkpoint-4563/merges.txt\n",
            "Output file downloaded to /content/falcon-rw-1b-finetuned/checkpoint-4563/optimizer.pt\n",
            "Output file downloaded to /content/falcon-rw-1b-finetuned/checkpoint-4563/rng_state.pth\n",
            "Output file downloaded to /content/falcon-rw-1b-finetuned/checkpoint-4563/scaler.pt\n",
            "Output file downloaded to /content/falcon-rw-1b-finetuned/checkpoint-4563/scheduler.pt\n",
            "Output file downloaded to /content/falcon-rw-1b-finetuned/checkpoint-4563/special_tokens_map.json\n",
            "Output file downloaded to /content/falcon-rw-1b-finetuned/checkpoint-4563/tokenizer.json\n",
            "Output file downloaded to /content/falcon-rw-1b-finetuned/checkpoint-4563/tokenizer_config.json\n",
            "Output file downloaded to /content/falcon-rw-1b-finetuned/checkpoint-4563/trainer_state.json\n",
            "Output file downloaded to /content/falcon-rw-1b-finetuned/checkpoint-4563/training_args.bin\n",
            "Output file downloaded to /content/falcon-rw-1b-finetuned/checkpoint-4563/vocab.json\n",
            "Output file downloaded to /content/falcon-rw-1b-finetuned/checkpoint-5060/README.md\n",
            "Output file downloaded to /content/falcon-rw-1b-finetuned/checkpoint-5060/adapter_config.json\n",
            "Output file downloaded to /content/falcon-rw-1b-finetuned/checkpoint-5060/adapter_model.safetensors\n",
            "Output file downloaded to /content/falcon-rw-1b-finetuned/checkpoint-5060/merges.txt\n",
            "Output file downloaded to /content/falcon-rw-1b-finetuned/checkpoint-5060/optimizer.pt\n",
            "Output file downloaded to /content/falcon-rw-1b-finetuned/checkpoint-5060/rng_state.pth\n",
            "Output file downloaded to /content/falcon-rw-1b-finetuned/checkpoint-5060/scaler.pt\n",
            "Output file downloaded to /content/falcon-rw-1b-finetuned/checkpoint-5060/scheduler.pt\n",
            "Output file downloaded to /content/falcon-rw-1b-finetuned/checkpoint-5060/special_tokens_map.json\n",
            "Output file downloaded to /content/falcon-rw-1b-finetuned/checkpoint-5060/tokenizer.json\n",
            "Output file downloaded to /content/falcon-rw-1b-finetuned/checkpoint-5060/tokenizer_config.json\n",
            "Output file downloaded to /content/falcon-rw-1b-finetuned/checkpoint-5060/trainer_state.json\n",
            "Output file downloaded to /content/falcon-rw-1b-finetuned/checkpoint-5060/training_args.bin\n",
            "Output file downloaded to /content/falcon-rw-1b-finetuned/checkpoint-5060/vocab.json\n",
            "Output file downloaded to /content/falcon-rw-1b-finetuned/checkpoint-507/README.md\n",
            "Output file downloaded to /content/falcon-rw-1b-finetuned/checkpoint-507/adapter_config.json\n",
            "Output file downloaded to /content/falcon-rw-1b-finetuned/checkpoint-507/adapter_model.safetensors\n",
            "Output file downloaded to /content/falcon-rw-1b-finetuned/checkpoint-507/merges.txt\n",
            "Output file downloaded to /content/falcon-rw-1b-finetuned/checkpoint-507/optimizer.pt\n",
            "Output file downloaded to /content/falcon-rw-1b-finetuned/checkpoint-507/rng_state.pth\n",
            "Output file downloaded to /content/falcon-rw-1b-finetuned/checkpoint-507/scaler.pt\n",
            "Output file downloaded to /content/falcon-rw-1b-finetuned/checkpoint-507/scheduler.pt\n",
            "Output file downloaded to /content/falcon-rw-1b-finetuned/checkpoint-507/special_tokens_map.json\n",
            "Output file downloaded to /content/falcon-rw-1b-finetuned/checkpoint-507/tokenizer.json\n",
            "Output file downloaded to /content/falcon-rw-1b-finetuned/checkpoint-507/tokenizer_config.json\n",
            "Output file downloaded to /content/falcon-rw-1b-finetuned/checkpoint-507/trainer_state.json\n",
            "Output file downloaded to /content/falcon-rw-1b-finetuned/checkpoint-507/training_args.bin\n",
            "Output file downloaded to /content/falcon-rw-1b-finetuned/checkpoint-507/vocab.json\n",
            "Output file downloaded to /content/logs/events.out.tfevents.1747544241.4113d82acee7.19.0\n",
            "Output file downloaded to /content/startup_investor_dataset.csv\n",
            "Output file downloaded to /content/wandb/run-20250518_045721-4k4qzi6x/files/config.yaml\n",
            "Output file downloaded to /content/wandb/run-20250518_045721-4k4qzi6x/files/output.log\n",
            "Output file downloaded to /content/wandb/run-20250518_045721-4k4qzi6x/files/requirements.txt\n",
            "Output file downloaded to /content/wandb/run-20250518_045721-4k4qzi6x/files/wandb-metadata.json\n",
            "Output file downloaded to /content/wandb/run-20250518_045721-4k4qzi6x/files/wandb-summary.json\n",
            "Output file downloaded to /content/wandb/run-20250518_045721-4k4qzi6x/logs/debug-internal.log\n",
            "Output file downloaded to /content/wandb/run-20250518_045721-4k4qzi6x/logs/debug.log\n",
            "Output file downloaded to /content/wandb/run-20250518_045721-4k4qzi6x/run-4k4qzi6x.wandb\n",
            "Kernel log downloaded to /content/fork-of-investor-falcon-rw-1b.log \n"
          ]
        }
      ]
    },
    {
      "cell_type": "code",
      "source": [
        "prompt = (\n",
        "    \"### Instruction:\\n\"\n",
        "    \"Startup Details: Industry: Edtech, Stage: Beta Testing, Funding Required: ₹250Cr+, Business Model: Equipment-as-a-Service, \"\n",
        "    \"Traction: 50% MoM growth | Investor Details: Industry: Smart Packaging, Funding Stage: Strategic Investors, \"\n",
        "    \"Investment Range: $50M+, Business Model: Profit-sharing, Geographical Preference: North-East India\\n\\n\"\n",
        "    \"### Response:\\n\"\n",
        ")"
      ],
      "metadata": {
        "id": "dWcbNHgBP8en"
      },
      "execution_count": null,
      "outputs": []
    },
    {
      "cell_type": "code",
      "source": [
        "prompt = (\n",
        "    \"### Instruction:\\n\"\n",
        "    \"Startup Details: Industry: AgriTech, Stage: Series A, Funding Required: ₹120Cr, Business Model: Subscription-based, \"\n",
        "    \"Traction: 3x YoY revenue growth | Investor Details: Industry: Renewable Energy, Funding Stage: Angel Investors, \"\n",
        "    \"Investment Range: $10M–$30M, Business Model: Equity-based, Geographical Preference: Western India\\n\\n\"\n",
        "    \"### Response:\\n\"\n",
        ")\n"
      ],
      "metadata": {
        "id": "jevVGusUP9lP"
      },
      "execution_count": 8,
      "outputs": []
    },
    {
      "cell_type": "code",
      "source": [
        "from transformers import AutoModelForCausalLM, AutoTokenizer\n",
        "from peft import PeftModel, PeftConfig\n",
        "import torch\n",
        "\n",
        "adapter_path = \"/content/falcon-rw-1b-finetuned/checkpoint-5060\"\n",
        "peft_config = PeftConfig.from_pretrained(adapter_path, local_files_only=True)\n",
        "\n",
        "base_model = AutoModelForCausalLM.from_pretrained(peft_config.base_model_name_or_path, local_files_only=False)\n",
        "tokenizer = AutoTokenizer.from_pretrained(peft_config.base_model_name_or_path)\n",
        "\n",
        "model = PeftModel.from_pretrained(base_model, adapter_path, local_files_only=True)\n",
        "model = model.merge_and_unload()\n",
        "\n",
        "device = torch.device(\"cuda\" if torch.cuda.is_available() else \"cpu\")\n",
        "model.to(device)\n",
        "\n",
        "inputs = tokenizer(prompt, return_tensors=\"pt\").to(device)\n",
        "outputs = model.generate(**inputs, max_new_tokens=2048)\n",
        "\n",
        "print(\"Response::::\")\n",
        "print(tokenizer.decode(outputs[0], skip_special_tokens=True))"
      ],
      "metadata": {
        "colab": {
          "base_uri": "https://localhost:8080/"
        },
        "id": "s5VwsmYaNYzO",
        "outputId": "ded02aba-d3ff-468b-bb2c-c1ca166597cf"
      },
      "execution_count": 9,
      "outputs": [
        {
          "output_type": "stream",
          "name": "stderr",
          "text": [
            "Setting `pad_token_id` to `eos_token_id`:2 for open-end generation.\n"
          ]
        },
        {
          "output_type": "stream",
          "name": "stdout",
          "text": [
            "Response::::\n",
            "### Instruction:\n",
            "Startup Details: Industry: AgriTech, Stage: Series A, Funding Required: ₹120Cr, Business Model: Subscription-based, Traction: 3x YoY revenue growth | Investor Details: Industry: Renewable Energy, Funding Stage: Angel Investors, Investment Range: $10M–$30M, Business Model: Equity-based, Geographical Preference: Western India\n",
            "\n",
            "### Response:\n",
            "- Score: 10 - Insight: The founder is in AgriTech, which is not a good match for the investor's preference for Renewable Energy. The founder is seeking Series A funding, which is not aligned with the investor's investment range ($10M–$30M). The founder's subscription-based business model is also not a good fit for the investor's equity-based business model. The founder's 3x YoY revenue growth is not a strong enough signal for the investor. The location mismatch is also a negative factor.                                                                                                                                                                                                                                                                                                                                                                                                                                                                                                                                                                                                                                                                                                                                                                                                                                                                                                                                                                                                                                                                                                                                                                                                                                                                                                                                                                                                                                                                                                                                                                                                                                                                                                                                                                                                                                                                                                                                                                                                                   \n"
          ]
        }
      ]
    },
    {
      "cell_type": "code",
      "source": [],
      "metadata": {
        "id": "dHYL2wurNZai"
      },
      "execution_count": 11,
      "outputs": []
    },
    {
      "cell_type": "code",
      "source": [],
      "metadata": {
        "id": "F4jo4XLBNZWM"
      },
      "execution_count": 12,
      "outputs": []
    },
    {
      "cell_type": "code",
      "source": [],
      "metadata": {
        "id": "eHX9dl8FNZT6"
      },
      "execution_count": 12,
      "outputs": []
    },
    {
      "cell_type": "code",
      "source": [],
      "metadata": {
        "id": "z0PH5Dh7NZRP"
      },
      "execution_count": 12,
      "outputs": []
    }
  ]
}
